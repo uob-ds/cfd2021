{
 "cells": [
  {
   "cell_type": "markdown",
   "id": "5a2598d3",
   "metadata": {},
   "source": [
    "# Arrays\n",
    "\n",
    "There are several kinds of sequences in Python.  A [list](lists) is one.  However, the sequence type that we will use most in the class, is the array.\n",
    "\n",
    "The `numpy` package, abbreviated `np` in programs, provides Python programmers\n",
    "with convenient and powerful functions for creating and manipulating arrays."
   ]
  },
  {
   "cell_type": "code",
   "execution_count": null,
   "id": "ffa591a9",
   "metadata": {},
   "outputs": [],
   "source": [
    "# Load the numpy package, and call it \"np\".\n",
    "import numpy as np"
   ]
  },
  {
   "cell_type": "markdown",
   "id": "05e3d2fa",
   "metadata": {},
   "source": [
    "## Creating arrays"
   ]
  },
  {
   "cell_type": "markdown",
   "id": "33a42bb7",
   "metadata": {},
   "source": [
    "The `array` function from the Numpy package creates an array from single values, or sequences of values.\n",
    "\n",
    "For example, remember `my_list`?"
   ]
  },
  {
   "cell_type": "code",
   "execution_count": null,
   "id": "6dc4544e",
   "metadata": {},
   "outputs": [],
   "source": [
    "my_list = [1, 2, 3]"
   ]
  },
  {
   "cell_type": "markdown",
   "id": "65b8b29d",
   "metadata": {},
   "source": [
    "This is a `list`:"
   ]
  },
  {
   "cell_type": "code",
   "execution_count": null,
   "id": "ca45c3e9",
   "metadata": {},
   "outputs": [],
   "source": [
    "type(my_list)"
   ]
  },
  {
   "cell_type": "markdown",
   "id": "8f12bb65",
   "metadata": {},
   "source": [
    "The `array` function from Numpy can make an array from this list:"
   ]
  },
  {
   "cell_type": "code",
   "execution_count": null,
   "id": "8a5bda07",
   "metadata": {},
   "outputs": [],
   "source": [
    "my_array = np.array(my_list)\n",
    "my_array"
   ]
  },
  {
   "cell_type": "markdown",
   "id": "3a388433",
   "metadata": {},
   "source": [
    "As you can see from the display above, this is an array.  We confirm it with `type`:"
   ]
  },
  {
   "cell_type": "code",
   "execution_count": null,
   "id": "20bd42e9",
   "metadata": {},
   "outputs": [],
   "source": [
    "type(my_array)"
   ]
  },
  {
   "cell_type": "markdown",
   "id": "f0e0ffb5",
   "metadata": {},
   "source": [
    "We can also create the list and then the array in one call, like this:"
   ]
  },
  {
   "cell_type": "code",
   "execution_count": null,
   "id": "e94fdc11",
   "metadata": {},
   "outputs": [],
   "source": [
    "my_array = np.array([1, 2, 3])\n",
    "my_array"
   ]
  },
  {
   "cell_type": "markdown",
   "id": "5a420d0a",
   "metadata": {},
   "source": [
    "Here `[1, 2, 3]` is an *expression* that returns a list. `np.array` then operates on the returned list, to create an array.\n",
    "\n",
    "Arrays often contain numbers, but, like lists, they can also contain strings\n",
    "or other types of values.  However, a single array can only contain a single\n",
    "kind of data. (It usually doesn't make sense to group together unlike data\n",
    "anyway.)\n",
    "\n",
    "For example,"
   ]
  },
  {
   "cell_type": "code",
   "execution_count": null,
   "id": "602b0389",
   "metadata": {},
   "outputs": [],
   "source": [
    "english_parts_of_speech = np.array([\"noun\", \"pronoun\", \"verb\", \"adverb\", \"adjective\", \"conjunction\", \"preposition\", \"interjection\"])\n",
    "english_parts_of_speech"
   ]
  },
  {
   "cell_type": "markdown",
   "id": "58f347d8",
   "metadata": {},
   "source": [
    "We have not seen this yet, but Python allows us to spread expressions between\n",
    "round and square brackets across many lines.  It knows that the expression has\n",
    "not finished yet because it is waiting for the closing bracket.  For example, this cell works in the exactly the same way as the cell above, and may be easier to read:"
   ]
  },
  {
   "cell_type": "code",
   "execution_count": null,
   "id": "7379e34e",
   "metadata": {},
   "outputs": [],
   "source": [
    "# An expression between brackets spread across many lines.\n",
    "english_parts_of_speech = np.array(\n",
    "    [\"noun\",\n",
    "    \"pronoun\",\n",
    "    \"verb\",\n",
    "    \"adverb\",\n",
    "    \"adjective\",\n",
    "    \"conjunction\",\n",
    "    \"preposition\",\n",
    "    \"interjection\"]\n",
    "    )\n",
    "english_parts_of_speech"
   ]
  },
  {
   "cell_type": "markdown",
   "id": "8f96f1e3",
   "metadata": {},
   "source": [
    "Below, we collect four different temperatures into a list called `temps`.\n",
    "These are the [estimated average daily high\n",
    "temperatures](http://berkeleyearth.lbl.gov/regions/global-land) over all land\n",
    "on Earth (in degrees Celsius) for the decades surrounding 1850, 1900, 1950,\n",
    "and 2000, respectively, expressed as deviations from the average absolute high\n",
    "temperature between 1951 and 1980, which was 14.48 degrees.\n",
    "\n",
    "If you are interested, you can get more data from [this file of daily high\n",
    "temperatures](http://berkeleyearth.lbl.gov/auto/Regional/TMAX/Text/global-land-TMAX-Trend.txt)."
   ]
  },
  {
   "cell_type": "code",
   "execution_count": null,
   "id": "489649ce",
   "metadata": {},
   "outputs": [],
   "source": [
    "highs = np.array([13.6  , 14.387, 14.585, 15.164])\n",
    "highs"
   ]
  },
  {
   "cell_type": "markdown",
   "id": "10654637",
   "metadata": {},
   "source": [
    "## Calculations with arrays"
   ]
  },
  {
   "cell_type": "markdown",
   "id": "6dbafa93",
   "metadata": {},
   "source": [
    "Arrays can be used in arithmetic expressions to compute over their contents.\n",
    "When an array is combined with a single number, that number is combined with\n",
    "each element of the array. Therefore, we can convert all of these temperatures\n",
    "to Fahrenheit by writing the familiar conversion formula."
   ]
  },
  {
   "cell_type": "code",
   "execution_count": null,
   "id": "c1c6616e",
   "metadata": {},
   "outputs": [],
   "source": [
    "(9/5) * highs + 32"
   ]
  },
  {
   "cell_type": "markdown",
   "id": "16534f81",
   "metadata": {},
   "source": [
    "![](../images/array_arithmetic.png)"
   ]
  },
  {
   "cell_type": "markdown",
   "id": "d74bc6a7",
   "metadata": {},
   "source": [
    "As we saw for strings, arrays have *methods*, which are functions that\n",
    "operate on the array values. The `mean` of a collection of numbers is its\n",
    "average value: the sum divided by the length. Each pair of parentheses in the\n",
    "examples below is part of a call expression; it's calling a function with no\n",
    "arguments to perform a computation on the array called `highs`."
   ]
  },
  {
   "cell_type": "code",
   "execution_count": null,
   "id": "e6cb9460",
   "metadata": {},
   "outputs": [],
   "source": [
    "# The number of elements in the array\n",
    "highs.size"
   ]
  },
  {
   "cell_type": "code",
   "execution_count": null,
   "id": "a87b0301",
   "metadata": {},
   "outputs": [],
   "source": [
    "highs.sum()"
   ]
  },
  {
   "cell_type": "code",
   "execution_count": null,
   "id": "9c493552",
   "metadata": {},
   "outputs": [],
   "source": [
    "highs.mean()"
   ]
  },
  {
   "cell_type": "markdown",
   "id": "c01edb10",
   "metadata": {},
   "source": [
    "## Functions on Arrays"
   ]
  },
  {
   "cell_type": "markdown",
   "id": "bea03dc1",
   "metadata": {},
   "source": [
    "Numpy provides various useful functions for operating on arrays.\n",
    "\n",
    "For example, the `diff` function computes the difference between each adjacent\n",
    "pair of elements in an array. The first element of the `diff` is the second\n",
    "element minus the first."
   ]
  },
  {
   "cell_type": "code",
   "execution_count": null,
   "id": "54d1e758",
   "metadata": {},
   "outputs": [],
   "source": [
    "np.diff(highs)"
   ]
  },
  {
   "cell_type": "markdown",
   "id": "0da31257",
   "metadata": {},
   "source": [
    "The [full Numpy reference](http://docs.scipy.org/doc/numpy/reference/) lists\n",
    "these functions exhaustively, but only a small subset are used commonly for\n",
    "data processing applications. These are grouped into different packages within\n",
    "`np`. Learning this vocabulary is an important part of learning the Python\n",
    "language, so refer back to this list often as you work through examples and\n",
    "problems.\n",
    "\n",
    "However, you **don't need to memorize these**.  Use this as a reference.\n",
    "\n",
    "Each of these functions takes an array as an argument and returns a single\n",
    "value.\n",
    "\n",
    "| **Function**       | Description                                                          |\n",
    "|--------------------|----------------------------------------------------------------------|\n",
    "| `np.sum`           | Add all elements together                                            |\n",
    "| `np.prod`          | Multiply all elements together                                       |\n",
    "| `np.all`           | Test whether all elements are true values (non-zero numbers are true)|\n",
    "| `np.any`           | Test whether any elements are true values (non-zero numbers are true)|\n",
    "| `np.count_nonzero` | Count the number of non-zero elements                                |\n",
    "| `np.mean`          | Calculate the mean (sum divided by number of elements)               |\n",
    "| `np.min`           | The minimum over the array                                           |\n",
    "| `np.max`           | The maximum over the array                                           |\n",
    "\n",
    "Each of these functions takes an array as an argument and returns an array of values.\n",
    "\n",
    "| **Function**       | Description                                                          |\n",
    "|--------------------|----------------------------------------------------------------------|\n",
    "| `np.diff`          | Difference between adjacent elements                                 |\n",
    "| `np.round`         | Round each number to the nearest integer (whole number)              |\n",
    "| `np.abs`           | Absolute value of each number (remove minus signs                    |\n",
    "| `np.cumprod`       | A cumulative product: for each element, multiply all elements so far |\n",
    "| `np.cumsum`        | A cumulative sum: for each element, add all elements so far          |\n",
    "| `np.exp`           | Exponentiate each element                                            |\n",
    "| `np.log`           | Take the natural logarithm of each element                           |\n",
    "| `np.sqrt`          | Take the square root of each element                                 |\n",
    "| `np.sort`          | Sort the elements                                                    |\n",
    "\n",
    "Each of these functions takes an array of strings and returns an array.\n",
    "\n",
    "| **Function**        | **Description**                                              |\n",
    "|---------------------|--------------------------------------------------------------|\n",
    "| `np.char.lower`     | Lowercase each element                                       |\n",
    "| `np.char.upper`     | Uppercase each element                                       |\n",
    "| `np.char.strip`     | Remove spaces at the beginning or end of each element        |\n",
    "| `np.char.isalpha`   | Whether each element is only letters (no numbers or symbols) |\n",
    "| `np.char.isnumeric` | Whether each element is only numeric (no letters)  \n",
    "\n",
    "Each of these functions takes both an array of strings and a *search string*; each returns an array.\n",
    "\n",
    "| **Function**         | **Description**                                                                  |\n",
    "|----------------------|----------------------------------------------------------------------------------|\n",
    "| `np.char.count`      | Count the number of times a search string appears among the elements of an array |\n",
    "| `np.char.find`       | The position within each element that a search string is found first             |\n",
    "| `np.char.rfind`      | The position within each element that a search string is found last              |\n",
    "| `np.char.startswith` | Whether each element starts with the search string  \n",
    "\n",
    "{ucb-page}`Arrays`"
   ]
  }
 ],
 "metadata": {
  "anaconda-cloud": {},
  "jupytext": {
   "notebook_metadata_filter": "anaconda-cloud,language_info"
  },
  "kernelspec": {
   "display_name": "Python 3",
   "language": "python",
   "name": "python3"
  },
  "language_info": {
   "codemirror_mode": {
    "name": "ipython",
    "version": 3
   },
   "file_extension": ".py",
   "mimetype": "text/x-python",
   "name": "python",
   "nbconvert_exporter": "python",
   "pygments_lexer": "ipython3",
   "version": "3.5.2"
  }
 },
 "nbformat": 4,
 "nbformat_minor": 5
}
