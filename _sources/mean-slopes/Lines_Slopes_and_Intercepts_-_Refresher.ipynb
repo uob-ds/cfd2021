{
 "cells": [
  {
   "cell_type": "markdown",
   "id": "84a0daf2",
   "metadata": {},
   "source": [
    "# What is a slope?\n",
    "\n",
    "By Peter Rush\n",
    "\n",
    "The graph below shows the $x$ axis, the $y$ axis and the *origin*. Any point on the graph can be specified by an $x$ coordinate and a $y$ coordinate. For instance, the origin is the point where `x = 0` and `y = 0`. \n",
    "\n",
    "Note: theoretically these axes (and all the lines we will plot on them) run infinitely in the directions they travel in. However, as your screen isn't infinite, they are truncated for the purpose of display."
   ]
  },
  {
   "cell_type": "code",
   "execution_count": null,
   "id": "5c4fddc8",
   "metadata": {
    "tags": [
     "hide-input"
    ]
   },
   "outputs": [],
   "source": [
    "# do not worry about any of the code in this notebook, it is just here to generate the graphs\n",
    "import numpy as np\n",
    "import matplotlib.pyplot as plt\n",
    "import scipy.stats\n",
    "import pandas as pd\n",
    "\n",
    "# Make plots look a little bit more fancy\n",
    "plt.style.use('fivethirtyeight')\n",
    "\n",
    "# a fucntion for a plot showing the origin, with arguments to adjust the display options as needed by this tutorial\n",
    "def axes_func(fig_size_1, fig_size_2, low_ax_lim, up_ax_lim, new_fig = True, five_ticks = False, double_y = False,\n",
    "             five_ticks_y = False):\n",
    "  \n",
    "    # create a new figure?\n",
    "    if new_fig == True:\n",
    "        plt.figure(figsize = (fig_size_1,fig_size_2))\n",
    "        \n",
    "    # create points for the x axis\n",
    "    x_axis = np.arange(low_ax_lim, up_ax_lim)\n",
    "    \n",
    "    # should the y axis been double the length of the x axis?\n",
    "    if double_y == False:\n",
    "        y_axis = np.arange(low_ax_lim, up_ax_lim)\n",
    "    else:\n",
    "        y_axis = np.arange(low_ax_lim*2, up_ax_lim*2)\n",
    "        \n",
    "    # plot and label the axes and the origin\n",
    "    plt.plot(x_axis, np.repeat(0, len(x_axis)), color = 'black')\n",
    "    plt.plot(np.repeat(0, len(y_axis)), y_axis, color = 'black')\n",
    "    plt.xlabel('X Axis')\n",
    "    plt.ylabel('Y Axis')\n",
    "    plt.plot(0,0, 'o', color = 'black', markersize = 14, label = 'The Origin (x = 0, y = 0)')\n",
    "    \n",
    "    # set the limits of the axes\n",
    "    plt.xlim(min(x_axis), max(x_axis))\n",
    "    plt.ylim(min(y_axis), max(y_axis))\n",
    "    \n",
    "    # show the axes ticks in intervals of 5?\n",
    "    if five_ticks == False:\n",
    "        plt.xticks(np.arange(np.min(x_axis), np.max(x_axis)+1, 1))\n",
    "        plt.yticks(np.arange(np.min(y_axis), np.max(y_axis)+1, 1))\n",
    "    else:\n",
    "        plt.xticks(np.arange(np.min(x_axis), np.max(x_axis)+1, 5))\n",
    "        plt.yticks(np.arange(np.min(y_axis), np.max(y_axis)+1, 5))\n",
    "    if five_ticks_y == True:\n",
    "        plt.yticks(np.arange(np.min(y_axis), np.max(y_axis)+1, 5))\n",
    "    \n",
    "    # show the legend\n",
    "    plt.legend()\n",
    "    \n",
    "    \n",
    "axes_func(8,8,-10,11);    "
   ]
  },
  {
   "cell_type": "markdown",
   "id": "0109775d",
   "metadata": {},
   "source": [
    "Note: you may be more familiar with seeing the numbers appear on the axes, as in this picture:\n",
    "<br>\n",
    "![](origin.gif) \n",
    "<br>\n",
    "<center><i>(Image from https://www.varsitytutors.com/hotmath/hotmath_help/topics/graphing-scale-and-origin)</center></i>\n",
    "<br>\n",
    "\n",
    "The graphs we will plot in this notebook display the numbers on the side of the figure, rather than on the axes themselves. This shows the same information, just in a different way.\n",
    "\n",
    "These axes provide us a way of visualising the relationship between two sets of data. Why is this important?:\n",
    "\n",
    "><i><center>'The dominant task of the human cortex is to extract visual information from the activity patterns on the retina. Our visual system is therefore exceedingly good at detecting patterns in visualized data sets. As a result, one can almost always see what is happening before it can be demonstrated through a quantitative analysis of the data. Visual data displays are also helpful at finding extreme data values, which are often caused by [...] mistakes in the data acquisition.' </i> <br> (page 51, Haslwanter, 2016, An Introduction to Statistics with Python)</center>\n",
    "\n",
    "Let's plot the point `(x = 5, y = 5)`; it is shown as a red 'x' on the graph below: "
   ]
  },
  {
   "cell_type": "code",
   "execution_count": null,
   "id": "14f32d80",
   "metadata": {
    "tags": [
     "hide-input"
    ]
   },
   "outputs": [],
   "source": [
    "# do not worry about any of the code in this notebook, it is just here to generate the graphs\n",
    "axes_func(8,8,-10,11)\n",
    "plt.plot(5,5, 'X', color = 'darkred', markersize = 12, label = '(x = 5, y = 5)')\n",
    "plt.legend();"
   ]
  },
  {
   "cell_type": "markdown",
   "id": "38bbb077",
   "metadata": {},
   "source": [
    "In a sense, the simplest line we can draw is one where, for any point on the line, the x and y coordinate are the same number. \n",
    "\n",
    "So when `x = 0` then `y = 0`,\n",
    "\n",
    "when `x = 1` then `y = 1`, \n",
    "\n",
    "when `x = 5` then `y = 5`, \n",
    "\n",
    "when `x = 10` then `y = 10` and so on.\n",
    "\n",
    "The equation for this line is `y = x`, and this line is shown in red below."
   ]
  },
  {
   "cell_type": "code",
   "execution_count": null,
   "id": "8a2d0ab7",
   "metadata": {
    "tags": [
     "hide-input"
    ]
   },
   "outputs": [],
   "source": [
    "# do not worry about any of the code in this notebook, it is just here to generate the graphs\n",
    "x = np.arange(-10, 11)\n",
    "y = x\n",
    "axes_func(8,8,-10,11)\n",
    "plt.plot(x,y, color = 'red', label = 'y = x')\n",
    "plt.plot(5,5, 'X', color = 'darkred', markersize = 12, label = '(x = 5, y = 5)')\n",
    "plt.legend();"
   ]
  },
  {
   "cell_type": "markdown",
   "id": "bf64c543",
   "metadata": {},
   "source": [
    "You'll notice that the point `(x = 5, y = 5)` is on this line. A line can be thought of as a collection of infinitely close points. The equation for a line tells you which points are on the line. We can refer to the entire line on the graph above as `y = x`. \n",
    "\n",
    "If we know the equation for the line, we can work out which points are on the line by taking any value of x and, using the equation, work out the y coordinate for that value of x. The point `(x = 5, y = 5)` is on the line `y = x` because the value of x and y are the same at `(x = 5, y = 5)`.\n",
    "\n",
    "The table below shows the x and y coordinates for some of the points on the line ```y = x```. As you can see, whatever x equals, y equals the same number."
   ]
  },
  {
   "cell_type": "code",
   "execution_count": null,
   "id": "c2ff0c41",
   "metadata": {
    "tags": [
     "hide-input"
    ]
   },
   "outputs": [],
   "source": [
    "df = pd.DataFrame({'x coordinate:': x, 'y coordinate:': y})\n",
    "df.index = np.repeat('', len(df))\n",
    "display(df)"
   ]
  },
  {
   "cell_type": "markdown",
   "id": "24e29d5e",
   "metadata": {},
   "source": [
    "Another way to write ```y = x``` is ```y = 1 * x```, as anything multiplied by 1 equals itself. \n",
    "\n",
    "What happens if we change that '1' in ```y = 1 * x``` to another number? Let's change that number from '1' to '5'. The graph below shows, in blue, the line for the equation ```y = 5 * x```. Our original line ```y = 1 * x``` is also shown, in red."
   ]
  },
  {
   "cell_type": "code",
   "execution_count": null,
   "id": "962aca65",
   "metadata": {
    "tags": [
     "hide-input"
    ]
   },
   "outputs": [],
   "source": [
    "# do not worry about any of the code in this notebook, it is just here to generate the graphs\n",
    "y1 = 5*x\n",
    "axes_func(8,8,-10,11)\n",
    "plt.plot(x,y, color = 'red', label = 'y = 1 * x')\n",
    "plt.plot(x,y1, color = 'blue', label = 'y = 5 * x')\n",
    "plt.legend();"
   ]
  },
  {
   "cell_type": "markdown",
   "id": "f45eef3a",
   "metadata": {},
   "source": [
    "The number we have changed -  from '1' to '5' - is the <b> slope </b>. Graphically, we can see that changing the slope changes the steepness of the line: the line for ```y = 5 * x``` is much steeper than the line for ```y = 1 * x```.\n",
    "\n",
    "What the slope tells us is this: for the x-coordinate of any point on the line, how much bigger/smaller is the y coordinate?\n",
    "\n",
    "In the case of ```y = 1  * x```: \n",
    "\n",
    "where `x = 1`, `y` equals 1 times the value of `x` ... so `y = 1`,\n",
    "\n",
    "where `x = 5`, `y` equals 1 times the value of `x` ... so `y = 5` etc.\n",
    "\n",
    "In the case of ```y = 5 * x```, `y` equals 5 times the value of `x`. So: \n",
    "\n",
    "where `x = 1`, `y` equals 5 times the value of `x` ... so `y = 5`,\n",
    "\n",
    "where `x = 5`, `y` equals 5 times the value of `x`... so `y = 25` etc.\n",
    "\n",
    "The table below shows this for a set of points on the line ```y = 5 * x```:"
   ]
  },
  {
   "cell_type": "code",
   "execution_count": null,
   "id": "113ac0b5",
   "metadata": {
    "tags": [
     "hide-input"
    ]
   },
   "outputs": [],
   "source": [
    "df = pd.DataFrame({'x coordinate:': x, 'y coordinate:': y1})\n",
    "df.index = np.repeat('', len(df))\n",
    "display(df)"
   ]
  },
  {
   "cell_type": "markdown",
   "id": "02d3ce95",
   "metadata": {},
   "source": [
    "Another way of thinking of this is: if we take any two points on the line, and we calculate how much the x-value has changed between those points, then the slope tells us how much the y value has also changed.\n",
    "\n",
    "So for the line ```y = 1 * x```, if we follow the line from `x = 0` to `x = 5`, the slope tells us how much the y values have changed over this distance. One way of thinking of this is that the slope is the 'rise' (the change in y values along the line) dividied by the 'run' (the change in the x values along the line):\n",
    "\n",
    "<center> <br>$ \\text{slope} = \\frac{\\text{change in y}}{\\text{change in x}} = \\frac{\\text{rise}}{\\text{run}} $ </center>\n",
    "<br>\n",
    "\n",
    "The graph below shows that, for the line ```y = 1 * x```, as x changes from 0 to 5, y also changes from 0 to 5.\n",
    "\n",
    "(This graph shows slightly more of the x and y axes than the previous graphs, as we will need this for the line we plot after this one)."
   ]
  },
  {
   "cell_type": "code",
   "execution_count": null,
   "id": "6e7c4a54",
   "metadata": {
    "tags": [
     "hide-input"
    ]
   },
   "outputs": [],
   "source": [
    "# do not worry about any of the code in this notebook, it is just here to generate the graphs\n",
    "axes_func(8,8,-30,31, five_ticks = True)\n",
    "x_long = np.arange(-30,31)\n",
    "y = 1 * x_long\n",
    "plt.plot(x_long, y, color = 'red', label = 'y = 1 * x')\n",
    "plt.plot([5, 0, 5], [5,5, 0], 'x', color = 'black')\n",
    "zer_5 = np.arange(0,6)\n",
    "plt.plot(np.repeat(5, len(zer_5)), zer_5, '--', color = 'darkgreen', label = 'Change in y')\n",
    "plt.plot(zer_5, np.repeat(5, len(zer_5)),'--', color = 'cyan', label = 'Change in x')\n",
    "plt.legend();"
   ]
  },
  {
   "cell_type": "markdown",
   "id": "ba976594",
   "metadata": {},
   "source": [
    "The graph below shows the same change in x (from 0 to 5) for the line ```y = 5 * x```."
   ]
  },
  {
   "cell_type": "code",
   "execution_count": null,
   "id": "5850f064",
   "metadata": {
    "tags": [
     "hide-input"
    ]
   },
   "outputs": [],
   "source": [
    "# do not worry about any of the code in this notebook, it is just here to generate the graphs\n",
    "axes_func(8,8,-30,31, five_ticks = True)\n",
    "plt.plot([5, 0, 5], [25,25, 0], 'x', color = 'black')\n",
    "plt.plot(x_long,y, color = 'red', label = 'y = 1 * x')\n",
    "plt.plot(x,y1, color = 'blue', label = 'y = 5 * x')\n",
    "zer_25 = np.arange(0,26)\n",
    "plt.plot(np.repeat(5, len(zer_25)), zer_25, '--', color = 'darkgreen', label = 'Change in y')\n",
    "plt.plot(zer_5, np.repeat(25, len(zer_5)),'--', color = 'cyan', label = 'Change in x')\n",
    "plt.legend();"
   ]
  },
  {
   "cell_type": "markdown",
   "id": "8eabfa02",
   "metadata": {},
   "source": [
    "If you compare the two graphs, you can see that, relative to the line ```y = 1 * x```, on the line ```y = 5 * x``` the value of y has changed a lot more for the same 5 point increase in x. It has changed by 5 times the amount. This may be clearer in the graph below:"
   ]
  },
  {
   "cell_type": "code",
   "execution_count": null,
   "id": "810eb21e",
   "metadata": {
    "tags": [
     "hide-input"
    ]
   },
   "outputs": [],
   "source": [
    "# do not worry about any of the code in this notebook, it is just here to generate the graphs\n",
    "axes_func(8,8,-30,31, five_ticks = True)\n",
    "plt.plot(x_long,y, color = 'red', label = 'y = 1 * x')\n",
    "plt.plot(x,y1, color = 'blue', label = 'y = 5 * x')\n",
    "plt.plot([5, 0, 5], [25,25, 0], 'x', color = 'black')\n",
    "plt.plot([5, 0, 5], [5,5, 0], 'x', color = 'black')\n",
    "zer_25 = np.arange(0,26)\n",
    "plt.plot(np.repeat(5, len(zer_25)), zer_25, '--', color = 'darkgreen', label = 'Change in y')\n",
    "plt.plot(zer_5, np.repeat(25, len(zer_5)),'--', color = 'cyan', label = 'Change in x')\n",
    "plt.plot(np.repeat(5, len(zer_5)), zer_5, '--', color = 'darkgreen')\n",
    "plt.plot(zer_5, np.repeat(5, len(zer_5)),'--', color = 'cyan')\n",
    "plt.legend();"
   ]
  },
  {
   "cell_type": "markdown",
   "id": "c37e52b8",
   "metadata": {},
   "source": [
    "The change in x is the same for each line, but the change in y is much larger for the line with the larger slope, ```y = 5 * x```.\n",
    "\n",
    "The larger the slope, the larger the change in y for a change in x. In this case, for the line ```y = 5 * x```, as the line moves 5 points along the x axis, it moves 5 times that amount (25 points) along the y axis. \n",
    "\n",
    "Conversely, for the line ```y = 1 * x```, as the line moves 5 points along the x axis, it only moves 5 points along the y axis.\n",
    "\n",
    "What would the graph look like if we change the slope of the line to 10, instead of 1? This new line, ```y = 10 * x```, is shown below, in green."
   ]
  },
  {
   "cell_type": "code",
   "execution_count": null,
   "id": "050d2f6e",
   "metadata": {
    "tags": [
     "hide-input"
    ]
   },
   "outputs": [],
   "source": [
    "# do not worry about any of the code in this notebook, it is just here to generate the graphs\n",
    "y2 = 10*x\n",
    "axes_func(8,8,-30,31, five_ticks = True)\n",
    "plt.plot(x_long,y, color = 'red', label = 'y = 1 * x')\n",
    "plt.plot(x,y1, color = 'blue', label = 'y = 5 * x')\n",
    "plt.plot(x,y2, color = 'green', label = 'y = 10 * x')\n",
    "plt.legend();"
   ]
  },
  {
   "cell_type": "markdown",
   "id": "bea78d61",
   "metadata": {},
   "source": [
    "As you can see, the take-home message is that if we increase the slope, the line gets steeper.\n",
    "\n",
    "For lines with positive slopes, when the values of x are negative, the values of y are also negative. And when the values of x are positive, the values of y are also positive. Look at the graph above to confirm this is correct.\n",
    "\n",
    "But what about if we make the slope negative? \n",
    "\n",
    "Let's try making the slope -5. The line for ```y = -5 * x``` is shown below, as a dashed line in dark blue. For comparison, the line ```y = 5 * x``` is also shown, as a solid line in lighter blue."
   ]
  },
  {
   "cell_type": "code",
   "execution_count": null,
   "id": "27f92636",
   "metadata": {
    "tags": [
     "hide-input"
    ]
   },
   "outputs": [],
   "source": [
    "# do not worry about any of the code in this notebook, it is just here to generate the graphs\n",
    "y3 = -5 * x\n",
    "axes_func(8,8,-10,11)\n",
    "plt.plot(x,y1, color = 'blue', label = 'y = 5 * x')\n",
    "plt.plot(x, y3, '--', color = 'darkblue', label = 'y = -5 * x')\n",
    "plt.legend();"
   ]
  },
  {
   "cell_type": "markdown",
   "id": "bfaba819",
   "metadata": {},
   "source": [
    "As you can see, the lines are equally steep. However, for the line with the negative slope, when the x values are negative, the y values are positive. And when the x values are positive, the y values are negative. \n",
    "\n",
    "So changing the sign of the slope (from positive 5 to negative 5) has reversed the direction the line travels in. But the steepness of the line is the same.\n",
    "\n",
    "The graph below shows multiple lines, so that you can see the relationship between the size of the slope (large or small), and the sign of the slope (positive or negative - lines with negative slopes are shown as dashed lines)."
   ]
  },
  {
   "cell_type": "code",
   "execution_count": null,
   "id": "9f26bfa8",
   "metadata": {
    "tags": [
     "hide-input"
    ]
   },
   "outputs": [],
   "source": [
    "# do not worry about any of the code in this notebook, it is just here to generate the graphs\n",
    "y4 = -x_long\n",
    "y6 = -10 *x\n",
    "axes_func(8,8,-10,11) \n",
    "plt.plot(x_long,y, color = 'red', label = 'y = 1 * x')\n",
    "plt.plot(x,y2, color = 'green', label = 'y = 10 * x')\n",
    "plt.plot(x_long,y4, '--', color = 'darkred', label = 'y = -1 * x')\n",
    "plt.plot(x, y6,'--',  color = 'darkgreen', label = 'y = -10 * x')\n",
    "plt.legend();"
   ]
  },
  {
   "cell_type": "markdown",
   "id": "97af2455",
   "metadata": {},
   "source": [
    "# What is an intercept?\n",
    "\n",
    "Look at the graph above. Despite having different sizes of slope, with different signs, all of the lines pass through the origin at `(x = 0, y = 0)`.\n",
    "\n",
    "The <b>intercept</b> is the term for where a line crosses the y axis. The intercept for all the lines in the above graph is 0, as they all cross the y axis where `y = 0`. \n",
    "\n",
    "We can change the intercept of a line by adding or subtracting a quantity in the equation for the line. This has the effect of adding or subtracting that quantity from every point on the line. This is easier to illustrate graphically.\n",
    "\n",
    "The graph below shows two lines. One we have seen before, ```y = 1 * x``` (shown in blue), and a new line ```y = 1 * x + 5``` (shown in gold)."
   ]
  },
  {
   "cell_type": "code",
   "execution_count": null,
   "id": "cfe7cad2",
   "metadata": {
    "tags": [
     "hide-input"
    ]
   },
   "outputs": [],
   "source": [
    "# do not worry about any of the code in this notebook, it is just here to generate the graphs\n",
    "y1 = x_long\n",
    "y2 = x_long + 5\n",
    "axes_func(8,8,-10, 11)\n",
    "plt.plot(x_long,y1, color = 'blue', label = 'y = 1 * x')\n",
    "plt.plot(x_long,y2, color = 'gold', label = 'y = 1 * x + 5')\n",
    "plt.legend();"
   ]
  },
  {
   "cell_type": "markdown",
   "id": "289f0a49",
   "metadata": {},
   "source": [
    "We can see that the new line, ```y = 1 * x + 5```, crosses the y axis at 5, but the steepness of the line is the same as ```y = 1 * x``` - it is only the point that each line crosses the y axis that is different.\n",
    "\n",
    "For any value of x on the line ```y = 1 * x + 5```, the y value equals 1 times the x value, plus the intercept, which in this case is 5. \n",
    "\n",
    "So if `x = 0`, y equals 1 times the value of x, plus the intercept: so `y = 0 + 5 = 5`. \n",
    "\n",
    "If `x = 2`, y equals 1 times the value of x, plus the intercept: so `y = 2 + 5 = 7` etc.\n",
    "\n",
    "That's all there is to it. Adding or subtracting an intercept from a line simply moves the line up and down the y axis. If the rest of the equation is the same, that is all that changes. This is true regardless of what the slope is:"
   ]
  },
  {
   "cell_type": "code",
   "execution_count": null,
   "id": "ffcaadb7",
   "metadata": {
    "tags": [
     "hide-input"
    ]
   },
   "outputs": [],
   "source": [
    "# do not worry about any of the code in this notebook, it is just here to generate the graphs\n",
    "y1 = 10 * x\n",
    "y2 = 10 * x + 5\n",
    "axes_func(8,8,-10, 11, double_y = True, five_ticks_y = True)\n",
    "plt.plot(x,y1, color = 'blue', label = 'y = 10 * x')\n",
    "plt.plot(x,y2, color = 'gold', label = 'y = 10 * x + 5')\n",
    "plt.legend();"
   ]
  },
  {
   "cell_type": "markdown",
   "id": "37d50c34",
   "metadata": {},
   "source": [
    "Let's see what happens if we set the intercept to -5, rather than postive 5:"
   ]
  },
  {
   "cell_type": "code",
   "execution_count": null,
   "id": "afa45464",
   "metadata": {
    "tags": [
     "hide-input"
    ]
   },
   "outputs": [],
   "source": [
    "# do not worry about any of the code in this notebook, it is just here to generate the graphs\n",
    "y1 = 5 * x\n",
    "y2 = 5 *  x + 5\n",
    "y3 = 5 *  x - 5\n",
    "axes_func(8,8,-10, 11, double_y = True, five_ticks_y = True)\n",
    "plt.plot(x,y1, color = 'orange', label = 'y =  5 * x')\n",
    "plt.plot(x,y2, color = 'crimson', label = 'y = 5 * x + 5')\n",
    "plt.plot(x,y3, color = 'darkred', label = 'y = 5 * x - 5')\n",
    "plt.legend();"
   ]
  },
  {
   "cell_type": "markdown",
   "id": "68dc9223",
   "metadata": {},
   "source": [
    "You can see that a negative intercept moves the line downwards away from the origin. \n",
    "\n",
    "A positive intercept moves the line upwards away from the origin.\n",
    "\n",
    "This is also true if the slope is negative, as can be seen from the graph below:"
   ]
  },
  {
   "cell_type": "code",
   "execution_count": null,
   "id": "3c240ed2",
   "metadata": {
    "tags": [
     "hide-input"
    ]
   },
   "outputs": [],
   "source": [
    "# do not worry about any of the code in this notebook, it is just here to generate the graphs\n",
    "y1 = -5 * x\n",
    "y2 = -5 *  x + 5\n",
    "y3= -5 *  x - 5\n",
    "axes_func(8,8,-10, 11, double_y = True, five_ticks_y = True)\n",
    "plt.plot(x,y1,'--', color = 'darkblue',  label = 'y =  -5 * x')\n",
    "plt.plot(x,y2,'--', color = 'silver',  label = 'y = -5 * x + 5')\n",
    "plt.plot(x,y3, '--',color = 'darkred',  label = 'y = -5 * x - 5')\n",
    "plt.legend();"
   ]
  },
  {
   "cell_type": "markdown",
   "id": "264763f6",
   "metadata": {},
   "source": [
    "### In summary: the slope determines the steepness of the line. The intercept moves the line up and down the y axis, relative to the origin."
   ]
  },
  {
   "cell_type": "markdown",
   "id": "8b22a5a0",
   "metadata": {},
   "source": [
    "# Why do we care?\n",
    "\n",
    "We should care about the equations for lines, because fitting a line to a set of datapoints can be used for description and prediction. 'Fitting' in this sense means finding the values of the equation for a line which best captures the pattern in our data.\n",
    "\n",
    "The dataframe below shows some data from the [students ratings dataset](../data/rate_my_professors):"
   ]
  },
  {
   "cell_type": "code",
   "execution_count": null,
   "id": "10c00658",
   "metadata": {},
   "outputs": [],
   "source": [
    "ratings = pd.read_csv('https://raw.githubusercontent.com/matthew-brett/cfd2020/master/data/rate_my_course.csv')\n",
    "ratings = ratings[['Discipline', 'Clarity', 'Overall Quality']]\n",
    "ratings.head(10)"
   ]
  },
  {
   "cell_type": "markdown",
   "id": "af4e5a67",
   "metadata": {},
   "source": [
    "The scatterplot below shows the `Clarity` ratings and the `Overall Quality` ratings for each course (the course names are shown in the `Discipline` column of the dataframe above).\n",
    "\n",
    "Each point on the graph shows both ratings for one course. The x-coordinate of the point shows that course's `Clarity` rating, and the y-coordinate shows the `Overall Quality` rating:"
   ]
  },
  {
   "cell_type": "code",
   "execution_count": null,
   "id": "7e8f583b",
   "metadata": {
    "tags": [
     "hide-input"
    ]
   },
   "outputs": [],
   "source": [
    "# do not worry about any of the code in this notebook, it is just here to generate the graphs\n",
    "clarity = ratings['Clarity'].copy()\n",
    "quality = ratings['Overall Quality'].copy()\n",
    "plt.figure(figsize = (8,8))\n",
    "plt.scatter(clarity, quality, label = 'Clarity (x) and Overall Quality (y) ratings')\n",
    "plt.xlabel('Calrity Rating')\n",
    "plt.ylabel('Overall Quality Rating')\n",
    "plt.legend();"
   ]
  },
  {
   "cell_type": "markdown",
   "id": "dac92564",
   "metadata": {},
   "source": [
    "We can fit a line to this data by using mathematical or computational techniques which find the equation for the line which best captures the trend in the datapoints (this is done by finding a line which minimizes the vertical distance between the darapoints and the line - we will go into more detail on these techniques [elsewhere](finding_lines)).\n",
    "\n",
    "Fitting a line can help us describe the strength and direction of the relationship between `Clarity` and `Overall Quality`:"
   ]
  },
  {
   "cell_type": "code",
   "execution_count": null,
   "id": "3462de28",
   "metadata": {
    "tags": [
     "hide-input"
    ]
   },
   "outputs": [],
   "source": [
    "# do not worry about any of the code in this notebook, it is just here to generate the graphs\n",
    "lin_reg = scipy.stats.linregress(clarity, quality)\n",
    "slope = lin_reg[0]\n",
    "intercept = lin_reg[1]\n",
    "ols_line = intercept  + slope * clarity\n",
    "plt.figure(figsize = (8,8))\n",
    "plt.xlabel('Clarity Rating')\n",
    "plt.ylabel('Overall Quality Rating')\n",
    "plt.scatter(clarity, quality, label = 'Clarity (x) and Overall Quality (y) ratings')\n",
    "plt.plot(clarity, ols_line, color = 'darkred', label = 'Best-fitting straight line:  y = '+str(np.round(slope,2))+' * x + '+str(np.round(intercept, 2)))\n",
    "plt.legend();"
   ]
  },
  {
   "cell_type": "markdown",
   "id": "33520be4",
   "metadata": {},
   "source": [
    "The equation for the best-fitting straight line is:\n",
    "\n",
    "$y =  0.92 * x +  0.32$\n",
    "\n",
    "(Remember that in this case \"x\" is the `Clarity` rating!)\n",
    "\n",
    "0.92 is the slope.<br>\n",
    "0.32 is the intercept.\n",
    "\n",
    "The steeper the slope of the best fitting line, the stronger the relationship between the two variables. The intercept is important too, we will explain why shortly.\n",
    "\n",
    "Once we have fitted a line, we can use it to predict things.\n",
    "\n",
    "Let's say a new course is piloted at a university. Let's say we have data on it's `Clarity` ratings, but have not yet collected data on its `Overall Quality`.\n",
    "\n",
    "We could use the `Clarity` score to predict the `Overall Quality` rating for that course, based on the relationship between `Clarity` and `Overall Quality` in the ratings data we already have.\n",
    "\n",
    "Let's say the `Clarity` rating of the new course is 3.6. The graph below shows how we would use this `Clarity` score to predict the `Overall Quality` score that the course would get. We would generate this prediction by checking what the y coordinate is for the point on the line where `x = 3.6`:"
   ]
  },
  {
   "cell_type": "code",
   "execution_count": null,
   "id": "660bf929",
   "metadata": {
    "tags": [
     "hide-input"
    ]
   },
   "outputs": [],
   "source": [
    "# do not worry about any of the code in this notebook, it is just here to generate the graphs\n",
    "predict = intercept + slope * 3.6\n",
    "plt.figure(figsize = (8,8))\n",
    "plt.xlabel('Clarity Rating')\n",
    "plt.ylabel('Overall Quality Rating')\n",
    "plt.scatter(clarity, quality, label = 'Clarity (x) and Overall Quality (y) ratings')\n",
    "plt.plot(clarity, ols_line, color = 'darkred', label = 'Best-fitting straight line:  y = '+str(np.round(slope,2))+' * x + '+str(np.round(intercept, 2)))\n",
    "plt.plot(3.6, predict, 'X', markersize = 15, color = 'red', label = 'Predicted \"Overall Quality\" rating for \"Clarity == 3.6\"' )\n",
    "plt.legend(bbox_to_anchor = (1,1));"
   ]
  },
  {
   "cell_type": "markdown",
   "id": "359b58f8",
   "metadata": {},
   "source": [
    "In this example, the predicted `Overall Quality` rating for `Clarity` rating of 3.6 is 3.635, as this is the y-coordinate for the point on the line where `x = 3.6`.\n",
    "\n",
    "Look at the y-axis level with the red \"x\" to see that this is correct.\n",
    "\n",
    "\n",
    "Remember that all lines pass through the origin if they do not have a nonzero intercept (i.e. an intercept that is any other number apart from 0, in the case of the scatterplot above the intercept is 0.32). \n",
    "\n",
    "So, we need a nonzero intercept - that is, we need to add or subtract a quantity from every value on the line - if the line which best fits the data does not pass through the origin. \n",
    "\n",
    "In our current example, without the nonzero intercept, our line would not pass through the data.\n",
    "\n",
    "With an intercept of 0, the line would have the correct slope, but it would be too low down the y axis to make useful predictions. \n",
    "\n",
    "The graph below shows a green line which has the same slope as the best fitting line, but has an intercept of 0. You can see that it does not fit the data well at all. If we use that line to make predictions, they would be very inaccurate."
   ]
  },
  {
   "cell_type": "code",
   "execution_count": null,
   "id": "487918dd",
   "metadata": {
    "tags": [
     "hide-input"
    ]
   },
   "outputs": [],
   "source": [
    "bad_line = slope*clarity\n",
    "bad_predict = 3.6 * slope\n",
    "plt.figure(figsize = (8,8))\n",
    "plt.xlabel('Clarity Rating')\n",
    "plt.ylabel('Overall Quality Rating')\n",
    "plt.scatter(clarity, quality, label = 'Clarity (x) and Overall Quality (y) ratings')\n",
    "plt.plot(clarity, ols_line, color = 'darkred', label = 'Best-fitting straight line:  y = '+str(np.round(slope,2))+' * x + '+str(np.round(intercept, 2)))\n",
    "plt.plot(clarity, bad_line,  color = 'green', label = 'Line with the correct slope, but a 0 intercept: y = '+str(np.round(slope,2))+' * x + 0')\n",
    "plt.plot(3.6, predict, 'X', markersize = 15, color = 'red', label = 'Predicted \"Overall Quality\" rating for \"Clarity == 3.6\"' )\n",
    "plt.plot(3.6, bad_predict, 'X', markersize = 15, color = 'red', )\n",
    "plt.legend(bbox_to_anchor = (1,1));"
   ]
  },
  {
   "cell_type": "markdown",
   "id": "00496f84",
   "metadata": {},
   "source": [
    "Let's plot the `Clarity` ratings, the `Overall Quality` ratings, the best-fitting line, and the line with the incorrect intercept on a graph which also shows the origin, to see more clearly how they relate to the lines we plotted earlier:"
   ]
  },
  {
   "cell_type": "code",
   "execution_count": null,
   "id": "646d8091",
   "metadata": {
    "tags": [
     "hide-input"
    ]
   },
   "outputs": [],
   "source": [
    "# do not worry about any of the code in this notebook, it is just here to generate the graphs\n",
    "x_points = np.linspace(-5, 5)\n",
    "good_line = intercept + slope * x_points\n",
    "bad_line = slope * x_points\n",
    "axes_func(10,10, -4.5, 5)\n",
    "plt.xlabel('Clarity Rating')\n",
    "plt.ylabel('Overall Quality Rating')\n",
    "plt.scatter(clarity, quality, label = 'Clarity (x) and Overall Quality (y) ratings')\n",
    "plt.plot(x_points, good_line, color = 'darkred', label = 'Best-fitting straight line:  y = '+str(np.round(slope,2))+' * x + '+str(np.round(intercept, 2)))\n",
    "plt.plot(x_points, bad_line,  color = 'green', label = 'Line with the correct slope, but a 0 intercept: y = '+str(np.round(slope,2))+' * x + 0')\n",
    "plt.legend(bbox_to_anchor = (1.03,1));"
   ]
  },
  {
   "cell_type": "markdown",
   "id": "3f6553ab",
   "metadata": {},
   "source": [
    "You can see that the line with the (incorrect) 0 intercept passes through the origin, and is too low down the y axis to pass through any of the datapoints (shown in blue).\n",
    "\n",
    "The best fitting line does not pass through the origin; it crosses the y axis at `y = 0.32`. As a result, it captures the pattern in the datapoints much better, and therefore is more useful for making predictions based on the pattern in the data."
   ]
  },
  {
   "cell_type": "markdown",
   "id": "06dddf96",
   "metadata": {},
   "source": [
    "# Try it yourself\n",
    "\n",
    "If you are using an interactive version of this notebook, try changing the values of the slope and intercept in the cell below, and then running the cell, to plot your own lines:"
   ]
  },
  {
   "cell_type": "code",
   "execution_count": null,
   "id": "781381a6",
   "metadata": {},
   "outputs": [],
   "source": [
    "# change the values of the slope and intercept below\n",
    "\n",
    "slope = 1\n",
    "\n",
    "intercept = 0\n",
    "\n",
    "# do not alter the code below this point\n",
    "\n",
    "plt.figure(figsize = (8,8))\n",
    "x = np.arange(-10, 11)\n",
    "y = slope * x + intercept\n",
    "plt.plot(x, y, label = 'y = '+str(slope)+' * x + '+str(intercept))\n",
    "biggest_abs_x = np.max(np.abs([np.min(x), np.max(x)]))\n",
    "biggest_abs_y = np.max(np.abs([np.min(y), np.max(y)]))\n",
    "x_axis = np.arange(-biggest_abs_x, biggest_abs_x+1)\n",
    "y_axis = np.arange(-biggest_abs_y , biggest_abs_y +1)\n",
    "plt.plot(x_axis, np.repeat(0, len(x_axis)), color = 'black')\n",
    "plt.plot(np.repeat(0, len(y_axis)), y_axis, color = 'black')\n",
    "plt.xlabel('X Axis')\n",
    "plt.ylabel('Y Axis')\n",
    "plt.plot(0,0, 'o', color = 'black', markersize = 8, label = 'The Origin (x = 0, y = 0)')\n",
    "\n",
    "max_x_axis = np.max(x_axis)\n",
    "if max_x_axis == 0:\n",
    "    max_x_axis = max_x_axis + 0.05\n",
    "    \n",
    "max_y_axis = np.max(y_axis)\n",
    "if max_y_axis == 0:\n",
    "    max_y_axis = max_y_axis + 0.05\n",
    "    \n",
    "plt.xticks(np.arange(np.min(x_axis), np.max(x_axis)+1, max_x_axis/10))\n",
    "plt.yticks(np.arange(np.min(y_axis), np.max(y_axis)+1, max_y_axis/10))\n",
    "plt.legend()\n",
    "plt.show()"
   ]
  },
  {
   "cell_type": "code",
   "execution_count": null,
   "id": "6de33d47",
   "metadata": {},
   "outputs": [],
   "source": []
  }
 ],
 "metadata": {
  "jupytext": {
   "formats": "Rmd,ipynb"
  },
  "kernelspec": {
   "display_name": "Python 3",
   "language": "python",
   "name": "python3"
  }
 },
 "nbformat": 4,
 "nbformat_minor": 5
}
