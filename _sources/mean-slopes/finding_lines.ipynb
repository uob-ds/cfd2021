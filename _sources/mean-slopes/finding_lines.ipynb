{
 "cells": [
  {
   "cell_type": "markdown",
   "id": "485dc90e",
   "metadata": {},
   "source": [
    "# Finding lines\n",
    "\n",
    "In [The Mean and Slopes](mean_and_slopes), we were looking for the best slope\n",
    "to predict one vector of values from another vector of values.\n",
    "\n",
    "Specifically, we wanted our slope to predict the Packed Cell Volume (PCV)\n",
    "values from the Hemoglobin (HGB) values.\n",
    "\n",
    "By analogy with [The Mean as Predictor](mean_meaning), we decided to choose our\n",
    "line to minimize the average prediction errors, and the sum of squared\n",
    "prediction errors.\n",
    "\n",
    "We found a solution, by trying many slopes, and choosing the slope giving use\n",
    "the smallest error.\n",
    "\n",
    "For our question, we were happy to assume that the line passed through 0,\n",
    "0 --- meaning, that when the Hemoglobin is 0, the Packed Cell Volume value is 0.\n",
    "Put another way, we assumed that our line had an *intercept* value of 0.  The\n",
    "intercept is the y value at which the line crosses the y axis, or, put another\n",
    "way, the y value when the x value is 0.\n",
    "\n",
    "What if we are in a situation where we want to find a line that had a (not\n",
    "zero) intercept, as well as a slope?\n",
    "\n",
    "*Note: please see [this page](Lines_Slopes_and_Intercepts_-_Refresher) if you would like\n",
    "a refresher on intercepts, slopes and linear graphs*"
   ]
  },
  {
   "cell_type": "code",
   "execution_count": null,
   "id": "e805205f",
   "metadata": {},
   "outputs": [],
   "source": [
    "import numpy as np\n",
    "import pandas as pd\n",
    "import matplotlib.pyplot as plt\n",
    "%matplotlib inline\n",
    "# Make plots look a little bit more fancy\n",
    "plt.style.use('fivethirtyeight')\n",
    "# Print to 4 decimal places, show tiny values as 0\n",
    "np.set_printoptions(precision=4, suppress=True)"
   ]
  },
  {
   "cell_type": "markdown",
   "id": "de4e5a11",
   "metadata": {},
   "source": [
    "We return to the [students ratings dataset](../data/rate_my_professors) dataset.\n",
    "\n",
    "This is a dataset, in Excel form, where each row is the average of students'\n",
    "ratings from <RateMyProfessors.com> across a single subject.  Thus, the first\n",
    "row refers to the average of all professors teaching English, the second row\n",
    "refers to all professors teaching Mathematics, and so on.\n",
    "\n",
    "Download the data file via this link {download}`rate_my_course.csv <../data/rate_my_course.csv>`.\n",
    "\n",
    "Next we load the data."
   ]
  },
  {
   "cell_type": "code",
   "execution_count": null,
   "id": "2c431523",
   "metadata": {},
   "outputs": [],
   "source": [
    "# Read the data file\n",
    "ratings = pd.read_csv('rate_my_course.csv')\n",
    "ratings.head()"
   ]
  },
  {
   "cell_type": "markdown",
   "id": "b51e46da",
   "metadata": {},
   "source": [
    "We are interested in the relationship of the \"Overall Quality\" measure to the\n",
    "\"Easiness\" measure."
   ]
  },
  {
   "cell_type": "code",
   "execution_count": null,
   "id": "0d9e75e2",
   "metadata": {},
   "outputs": [],
   "source": [
    "# Convert Easiness and Overall Quality measures to arrays.\n",
    "easiness = np.array(ratings['Easiness'])\n",
    "quality = np.array(ratings['Overall Quality'])"
   ]
  },
  {
   "cell_type": "markdown",
   "id": "5e0a5ed6",
   "metadata": {},
   "source": [
    "Do students rate easier courses as being of better quality?"
   ]
  },
  {
   "cell_type": "code",
   "execution_count": null,
   "id": "dee7b004",
   "metadata": {},
   "outputs": [],
   "source": [
    "plt.plot(easiness, quality, 'o')\n",
    "plt.xlabel('Easiness')\n",
    "plt.ylabel('Overall Quality')"
   ]
  },
  {
   "cell_type": "markdown",
   "id": "d641409f",
   "metadata": {},
   "source": [
    "There might be a straight-line relationship here, but it doesn't look as if it\n",
    "would go through 0, 0:"
   ]
  },
  {
   "cell_type": "code",
   "execution_count": null,
   "id": "00672ae9",
   "metadata": {},
   "outputs": [],
   "source": [
    "# The same plot as above, but showing the x, y origin at 0, 0\n",
    "plt.plot(easiness, quality, 'o')\n",
    "plt.xlabel('Easiness')\n",
    "plt.ylabel('Overall Quality')\n",
    "# Make sure 0, 0 is on the plot.\n",
    "plt.axis([0, 3.9, 0, 4.2])"
   ]
  },
  {
   "cell_type": "markdown",
   "id": "5a2278e8",
   "metadata": {},
   "source": [
    "In [The Mean and Slopes](mean_and_slopes), we assumed that the intercept was zero, so we only had to try different slopes to get our best line."
   ]
  },
  {
   "cell_type": "markdown",
   "id": "4f3c4424",
   "metadata": {},
   "source": [
    "Here we have a different problem, because we want to find a line that has an\n",
    "intercept that is not zero, so we need to find the *best slope* and the *best\n",
    "intercept* at the same time.  How do we search for a slope as well as an\n",
    "intercept?"
   ]
  },
  {
   "cell_type": "markdown",
   "id": "ac24d92a",
   "metadata": {},
   "source": [
    "But wait - why do we have to search for the slope and the intercept *at the same time*?  Can't we just find the best slope, and then the best intercept?\n",
    "\n",
    "In fact we can't do that, because the best slope will change for every intercept.\n",
    "\n",
    "To see why that is, we need to try a few different lines.   To do that, we need to remind ourselves about defining lines, and then testing them."
   ]
  },
  {
   "cell_type": "markdown",
   "id": "99c85afc",
   "metadata": {},
   "source": [
    "Remember, we can describe a line with an *intercept* and a *slope*.  Call the\n",
    "*intercept* $c$ and a *slope* $s$.  A line predicts the $y$ values from the\n",
    "$x$ values, using the slope $s$ and the intercept $c$:\n",
    "\n",
    "$$\n",
    "y = c + x * s\n",
    "$$"
   ]
  },
  {
   "cell_type": "markdown",
   "id": "9ce1369a",
   "metadata": {},
   "source": [
    "Let's start with a guess for the line, just from eyeballing the plot. We guess\n",
    "that:\n",
    "\n",
    "* The intercept is around 2.25\n",
    "* The slope is around 0.47\n",
    "\n",
    "The *predicted* $y$ values from this line are (from the formula above):"
   ]
  },
  {
   "cell_type": "code",
   "execution_count": null,
   "id": "abeb9a4c",
   "metadata": {},
   "outputs": [],
   "source": [
    "predicted = 2.25 + easiness * 0.47"
   ]
  },
  {
   "cell_type": "markdown",
   "id": "39871e63",
   "metadata": {},
   "source": [
    "where `easiness` contains our actual $x$ values.\n",
    "\n",
    "The prediction error at each point come from the actual $y$ values minus the\n",
    "predicted $y$ values."
   ]
  },
  {
   "cell_type": "code",
   "execution_count": null,
   "id": "aa8e2e1b",
   "metadata": {},
   "outputs": [],
   "source": [
    "error = quality - predicted"
   ]
  },
  {
   "cell_type": "markdown",
   "id": "33d804d0",
   "metadata": {},
   "source": [
    "where `quality` contains our actual $y$ values.\n",
    "\n",
    "We can look at the *predictions* for this line (in red), and the actual values (in blue) and then the errors (the lengths of the dotted lines joining the red predictions and the corresponding blue actual values)."
   ]
  },
  {
   "cell_type": "code",
   "execution_count": null,
   "id": "585c7c3f",
   "metadata": {},
   "outputs": [],
   "source": [
    "# Don't worry about this code, it's just to plot the line, and the errors.\n",
    "x_values = easiness  # The thing we're predicting from, on the x axis\n",
    "y_values = quality  # The thing we're predicting, on the y axis.\n",
    "plt.plot(x_values, y_values, 'o')\n",
    "plt.plot(x_values, predicted, 'o', color='red')\n",
    "# Draw a line between predicted and actual\n",
    "for i in np.arange(len(x_values)):\n",
    "    x = x_values[i]\n",
    "    y_0 = predicted[i]\n",
    "    y_1 = y_values[i]\n",
    "    plt.plot([x, x], [y_0, y_1], ':', color='black', linewidth=1)"
   ]
  },
  {
   "cell_type": "markdown",
   "id": "e545074c",
   "metadata": {},
   "source": [
    "The sum of squared errors is:"
   ]
  },
  {
   "cell_type": "code",
   "execution_count": null,
   "id": "db999c75",
   "metadata": {
    "lines_to_next_cell": 0
   },
   "outputs": [],
   "source": [
    "# Sum of squared error given c and s\n",
    "sse_c_s = np.sum(error ** 2)\n",
    "sse_c_s"
   ]
  },
  {
   "cell_type": "markdown",
   "id": "e35efe67",
   "metadata": {},
   "source": [
    "Actually, those bits of code are so useful, let's make them into a function:"
   ]
  },
  {
   "cell_type": "code",
   "execution_count": null,
   "id": "8d1c1203",
   "metadata": {},
   "outputs": [],
   "source": [
    "def plot_with_errors(x_values, y_values, c, s):\n",
    "    \"\"\" Plot a line through data with errors\n",
    "\n",
    "    Parameters\n",
    "    ----------\n",
    "    x_values : array\n",
    "        Values we are predicting from, for the x-axis of the plot.\n",
    "    y_values : array\n",
    "        Values we are predicting, for the y-axis of the plot.\n",
    "    c : number\n",
    "        Intercept for predicting line.\n",
    "    s : number\n",
    "        Slope for predicting line.\n",
    "\n",
    "    Returns\n",
    "    -------\n",
    "    s_o_s : number\n",
    "        The sum of squares of the errors, for the given `x_values`, `y_values` and line.\n",
    "    \"\"\"\n",
    "    # Predict the y values from the line.\n",
    "    predicted = c + s * x_values\n",
    "    # Errors are the real values minus the predicted values.\n",
    "    errors = y_values - predicted\n",
    "    # Plot real values in blue, predicted values in red.\n",
    "    plt.plot(x_values, y_values, 'o', color='blue')\n",
    "    plt.plot(x_values, predicted, 'o', color='red')\n",
    "    # Draw a line between predicted and actual\n",
    "    for i in np.arange(len(x_values)):\n",
    "        x = x_values[i]\n",
    "        y_0 = predicted[i]\n",
    "        y_1 = y_values[i]\n",
    "        plt.plot([x, x], [y_0, y_1], ':', color='black', linewidth=1)\n",
    "    return np.sum(errors ** 2)"
   ]
  },
  {
   "cell_type": "markdown",
   "id": "52b394e4",
   "metadata": {},
   "source": [
    "Notice the string at the top of the function, giving details about what the function does, its arguments, and the values it returns.  This is called the *docstring*.  It can remind you and other people what the function does, and how to use it.  Try making a new cell and type `plot_with_errors?`.  You'll see this string is the help that Python will fetch for this function.\n",
    "\n",
    "Now the same thing with the function:"
   ]
  },
  {
   "cell_type": "code",
   "execution_count": null,
   "id": "80449ac9",
   "metadata": {},
   "outputs": [],
   "source": [
    "plot_with_errors(easiness, quality, 2.25, 0.47)"
   ]
  },
  {
   "cell_type": "markdown",
   "id": "9540ab8b",
   "metadata": {},
   "source": [
    "If we try a different intercept, we'll get a different line, and a different\n",
    "error.  Let's try an intercept of 2.1:"
   ]
  },
  {
   "cell_type": "code",
   "execution_count": null,
   "id": "77c8f0cb",
   "metadata": {},
   "outputs": [],
   "source": [
    "plot_with_errors(easiness, quality, 2.1, 0.47)"
   ]
  },
  {
   "cell_type": "markdown",
   "id": "1734aa6e",
   "metadata": {},
   "source": [
    "Or, we could go back to the same intercept, but try a different slope, and we'd get a different error.  Let's try a slope of 0.5:"
   ]
  },
  {
   "cell_type": "code",
   "execution_count": null,
   "id": "175db30d",
   "metadata": {},
   "outputs": [],
   "source": [
    "plot_with_errors(easiness, quality, 2.25, 0.5)"
   ]
  },
  {
   "cell_type": "markdown",
   "id": "f035f7ee",
   "metadata": {},
   "source": [
    "Now we use the long slow method to find the best slope for our initial\n",
    "intercept of 2.25.  You may recognize the following from the [mean and\n",
    "slopes](mean_and_slopes) notebook.\n",
    "\n",
    "First we make a function, a bit like the function above, that gives us the\n",
    "error for any given intercept (`c`) and slope (`s`) like this:"
   ]
  },
  {
   "cell_type": "code",
   "execution_count": null,
   "id": "ebf720ce",
   "metadata": {},
   "outputs": [],
   "source": [
    "def sos_error_c_s(c, s):\n",
    "    predicted = c + easiness * s\n",
    "    error = quality - predicted\n",
    "    return np.sum(error ** 2)"
   ]
  },
  {
   "cell_type": "markdown",
   "id": "b7e12644",
   "metadata": {},
   "source": [
    "We have already calculated the error for the original guess at slope and intercept, but let's do it again for practice:"
   ]
  },
  {
   "cell_type": "code",
   "execution_count": null,
   "id": "37c069e7",
   "metadata": {},
   "outputs": [],
   "source": [
    "# Sum of squared error for our initial guessed line.\n",
    "predicted = 2.25 + easiness * 0.47\n",
    "error = quality - predicted\n",
    "np.sum(error ** 2)"
   ]
  },
  {
   "cell_type": "markdown",
   "id": "6a4cf70e",
   "metadata": {},
   "source": [
    "Check that our function gives the same value for the same intercept and slope:"
   ]
  },
  {
   "cell_type": "code",
   "execution_count": null,
   "id": "4582ae44",
   "metadata": {},
   "outputs": [],
   "source": [
    "sos_error_c_s(2.25, 0.47)"
   ]
  },
  {
   "cell_type": "markdown",
   "id": "09879472",
   "metadata": {},
   "source": [
    "OK, now we use this function to try lots of different slopes, for this\n",
    "intercept, and see which slope gives us the lowest error.  See the means,\n",
    "slopes notebook for the first time we did this."
   ]
  },
  {
   "cell_type": "code",
   "execution_count": null,
   "id": "b0d0c076",
   "metadata": {},
   "outputs": [],
   "source": [
    "# Some slopes to try.\n",
    "some_slopes = np.arange(-2, 2, 0.001)\n",
    "n_slopes = len(some_slopes)\n",
    "print('Number of slopes to try:', n_slopes)\n",
    "# The first 10 slopes to try:\n",
    "some_slopes[:10]"
   ]
  },
  {
   "cell_type": "code",
   "execution_count": null,
   "id": "f2f054a9",
   "metadata": {},
   "outputs": [],
   "source": [
    "# Try all these slopes for an intercept of 2.25\n",
    "# For each slope, calculate and record sum of squared error\n",
    "sos_errors = np.zeros(n_slopes)\n",
    "for i in np.arange(n_slopes):\n",
    "    slope = some_slopes[i]\n",
    "    sos_errors[i] = sos_error_c_s(2.25, slope)"
   ]
  },
  {
   "cell_type": "markdown",
   "id": "ae054ed4",
   "metadata": {},
   "source": [
    "Now plot the errors we got for each slope, and find the slope giving the smallest error:"
   ]
  },
  {
   "cell_type": "code",
   "execution_count": null,
   "id": "1268ff0a",
   "metadata": {},
   "outputs": [],
   "source": [
    "plt.plot(some_slopes, sos_errors)\n",
    "plt.xlabel('Candidate slopes')\n",
    "plt.ylabel('Sum of squared error')"
   ]
  },
  {
   "cell_type": "markdown",
   "id": "ffa6f967",
   "metadata": {},
   "source": [
    "Using the tricks from [where and argmin](where_and_argmin), we find the index\n",
    "(position) of the minimum value, and then find the corresponding slope."
   ]
  },
  {
   "cell_type": "code",
   "execution_count": null,
   "id": "93401bb4",
   "metadata": {},
   "outputs": [],
   "source": [
    "i_of_best_slope = np.argmin(sos_errors)\n",
    "best_slope_for_2p25 = some_slopes[i_of_best_slope]\n",
    "print('Best slope for intercept of', 2.25, 'is', best_slope_for_2p25)"
   ]
  },
  {
   "cell_type": "markdown",
   "id": "95198953",
   "metadata": {},
   "source": [
    "That code also looks useful, so let's make some of that code into a function we\n",
    "can re-use:"
   ]
  },
  {
   "cell_type": "code",
   "execution_count": null,
   "id": "3f51340c",
   "metadata": {},
   "outputs": [],
   "source": [
    "def best_slope_for_intercept(intercept, some_slopes):\n",
    "    \"\"\" Calculate best slope, lowest error for a given intercept\n",
    "\n",
    "    Parameters\n",
    "    ----------\n",
    "    intercept : number\n",
    "        Intercept.\n",
    "    some_slopes : array\n",
    "        Array of candidate slope values to try.\n",
    "\n",
    "    Returns\n",
    "    -------\n",
    "    best_slope : float\n",
    "        Slope from `some_slopes` that results in lowest error.\n",
    "    lowest_error : float\n",
    "        Lowest error score across all slopes in `some_slopes`;\n",
    "        therefore, error score for `best_slope`.\n",
    "    \"\"\"\n",
    "    n_slopes = len(some_slopes)\n",
    "    # Try all these slopes, calculate and record sum of squared error\n",
    "    sos_errors = np.zeros(n_slopes)\n",
    "    for i in np.arange(n_slopes):\n",
    "        slope = some_slopes[i]\n",
    "        sos_errors[i] = sos_error_c_s(intercept, slope)\n",
    "    i_of_best_slope = np.argmin(sos_errors)\n",
    "    # Return the slope and associated error as a length 2 array.\n",
    "    return np.array(\n",
    "        [some_slopes[i_of_best_slope], sos_errors[i_of_best_slope]]\n",
    "    )"
   ]
  },
  {
   "cell_type": "markdown",
   "id": "7ba6b196",
   "metadata": {},
   "source": [
    "Now use the function to find the best slope:"
   ]
  },
  {
   "cell_type": "code",
   "execution_count": null,
   "id": "4faa6311",
   "metadata": {},
   "outputs": [],
   "source": [
    "best_slope_for_intercept(2.25, some_slopes)"
   ]
  },
  {
   "cell_type": "markdown",
   "id": "4084fccf",
   "metadata": {},
   "source": [
    "OK --- that's the best slope and error for an intercept of 2.25.  How about our\n",
    "other suggestion, of an intercept of 2.1?  Let's try that:"
   ]
  },
  {
   "cell_type": "code",
   "execution_count": null,
   "id": "02817b13",
   "metadata": {},
   "outputs": [],
   "source": [
    "best_slope_for_intercept(2.1, some_slopes)"
   ]
  },
  {
   "cell_type": "markdown",
   "id": "563c0c5b",
   "metadata": {},
   "source": [
    "Oh dear - the best slope has changed.  And, in general, for any intercept, you\n",
    "may able to see that the best slope will be different, as the slope tries to\n",
    "adjust for the stuff that the intercept does not explain.\n",
    "\n",
    "This means we can't just find the intercept, and find the best slope for that\n",
    "intercept, at least not in our case - we have to find the best *pair* of\n",
    "intercept and slope.  This is the pair, of all possible pairs, that gives the\n",
    "lowest error."
   ]
  },
  {
   "cell_type": "markdown",
   "id": "5fc765b5",
   "metadata": {},
   "source": [
    "Our task then, is to find the *pair of values* --- `c` and `s`  --- such that\n",
    "we get the smallest possible value for the sum of squared errors above."
   ]
  },
  {
   "cell_type": "markdown",
   "id": "3f723f55",
   "metadata": {},
   "source": [
    "One way of doing this, is to try *every possible* plausible pair of intercept\n",
    "and slope, calculate the error for this pair, and then find the *pair* that\n",
    "gave the lowest error.\n",
    "\n",
    "We are now searching over many *combinations* of slopes and intercepts."
   ]
  },
  {
   "cell_type": "markdown",
   "id": "160115ad",
   "metadata": {},
   "source": [
    "For example, say we were interested in trying the intercepts 2, 2.1, 2.2.  Then\n",
    "we'd run the routine above for each intercept, to find the best slope for each:"
   ]
  },
  {
   "cell_type": "code",
   "execution_count": null,
   "id": "c2dc5a0e",
   "metadata": {},
   "outputs": [],
   "source": [
    "print('Best slope, error for 2.0 is ',\n",
    "      best_slope_for_intercept(2.0, some_slopes))\n",
    "print('Best slope, error for 2.1 is ',\n",
    "      best_slope_for_intercept(2.1, some_slopes))\n",
    "print('Best slope, error for 2.2 is ',\n",
    "      best_slope_for_intercept(2.2, some_slopes))"
   ]
  },
  {
   "cell_type": "markdown",
   "id": "2bbefc09",
   "metadata": {},
   "source": [
    "From this we conclude that, of the intercepts we have tried, 2.1 is the best,\n",
    "because we could get the lowest error score with that intercept.  If this was\n",
    "all we had, we would chose an intercept of 2.1, and its matching best slope of\n",
    "0.513."
   ]
  },
  {
   "cell_type": "markdown",
   "id": "0dc69d70",
   "metadata": {},
   "source": [
    "To find out if this is really the best we can do, we can try many intercepts.\n",
    "For each intercept, we find the best slope, with the lowest error.  Then we\n",
    "choose the intercept for which we can get the lowest error, and find the best\n",
    "slope for that intercept."
   ]
  },
  {
   "cell_type": "code",
   "execution_count": null,
   "id": "8c6defd5",
   "metadata": {},
   "outputs": [],
   "source": [
    "# Some intercepts to try\n",
    "some_intercepts = np.arange(1, 3.2, 0.01)\n",
    "n_intercepts = len(some_intercepts)\n",
    "print('Number of intercepts to try:', n_intercepts)\n",
    "# First 10 intercepts to try\n",
    "print('First 10 intercepts', some_intercepts[:10])"
   ]
  },
  {
   "cell_type": "markdown",
   "id": "8e5635bb",
   "metadata": {},
   "source": [
    "For each of the 220 possible intercepts, we try all 4000 possible slopes, to\n",
    "find the slope giving the lowest error *for that intercept*.  We store the best\n",
    "slope, and the best error, for each intercept, so we can chose the best\n",
    "intercept, after we have finished."
   ]
  },
  {
   "cell_type": "code",
   "execution_count": null,
   "id": "6f92d1f0",
   "metadata": {},
   "outputs": [],
   "source": [
    "# An array to collect the best slope found for each intercept.\n",
    "best_slopes = np.zeros(n_intercepts)\n",
    "# An array to collect the lowest error found for each intercept.\n",
    "# This is the error associated with the matching slope above.\n",
    "lowest_errors = np.zeros(n_intercepts)\n",
    "# Cycle through each intercept, finding the best slope, and lowest error.\n",
    "for i in np.arange(n_intercepts):\n",
    "    # Intercept to try\n",
    "    intercept = some_intercepts[i]\n",
    "    # Find best slope, and matching error.\n",
    "    slope_error = best_slope_for_intercept(intercept, some_slopes)\n",
    "    # Store the slope and error in their arrays.\n",
    "    best_slopes[i] = slope_error[0]  # The best slope\n",
    "    lowest_errors[i] = slope_error[1]  # The matching error\n",
    "print('First 10 intercepts:\\n', some_intercepts[:10])\n",
    "print('Best slopes for first 10 intercepts:\\n', best_slopes[:10])\n",
    "print('Lowest errors for first 10 intercepts:\\n', lowest_errors[:10])"
   ]
  },
  {
   "cell_type": "code",
   "execution_count": null,
   "id": "02fabc41",
   "metadata": {},
   "outputs": [],
   "source": [
    "# Plot the lowest error for each intercept\n",
    "plt.plot(some_intercepts, lowest_errors)\n",
    "plt.xlabel('Intercepts')\n",
    "plt.ylabel('Lowest error for intercept')\n",
    "plt.title('Lowest error for each intercept')"
   ]
  },
  {
   "cell_type": "code",
   "execution_count": null,
   "id": "bb63a77d",
   "metadata": {},
   "outputs": [],
   "source": [
    "# The lowest error we found for any intercept:\n",
    "min(lowest_errors)"
   ]
  },
  {
   "cell_type": "markdown",
   "id": "5c2bf1db",
   "metadata": {},
   "source": [
    "Notice that this error is lower than the error we found for our guessed `c` and\n",
    "`s`:"
   ]
  },
  {
   "cell_type": "code",
   "execution_count": null,
   "id": "834e98dd",
   "metadata": {},
   "outputs": [],
   "source": [
    "sos_error_c_s(2.25, 0.47)"
   ]
  },
  {
   "cell_type": "markdown",
   "id": "057b6517",
   "metadata": {},
   "source": [
    "Again, we use [argmin](where_and_argmin) to find the index (position) of the\n",
    "minimum value:"
   ]
  },
  {
   "cell_type": "code",
   "execution_count": null,
   "id": "94b79b24",
   "metadata": {},
   "outputs": [],
   "source": [
    "# The index (position) of this lowest error\n",
    "i_for_lowest = np.argmin(lowest_errors)\n",
    "i_for_lowest"
   ]
  },
  {
   "cell_type": "code",
   "execution_count": null,
   "id": "383d513d",
   "metadata": {},
   "outputs": [],
   "source": [
    "# The intercept corresponding to the lowest error\n",
    "best_intercept = some_intercepts[i_for_lowest]\n",
    "best_intercept"
   ]
  },
  {
   "cell_type": "code",
   "execution_count": null,
   "id": "b2cdd2f2",
   "metadata": {},
   "outputs": [],
   "source": [
    "# The slope giving the lowest error, for this intercept\n",
    "best_slope = best_slopes[i_for_lowest]\n",
    "best_slope"
   ]
  },
  {
   "cell_type": "markdown",
   "id": "cd5c3ee8",
   "metadata": {},
   "source": [
    "Plot the data, predictions and errors for the line that minimizes the sum of\n",
    "squared error:"
   ]
  },
  {
   "cell_type": "code",
   "execution_count": null,
   "id": "c0207f26",
   "metadata": {},
   "outputs": [],
   "source": [
    "plot_with_errors(easiness, quality, best_intercept, best_slope)"
   ]
  },
  {
   "cell_type": "markdown",
   "id": "72e27f30",
   "metadata": {},
   "source": [
    "Now you know about [optimization](optimization), you will not be surprised to\n",
    "discover that Scipy `minimize` can also do the search for the intercept and\n",
    "slope pair for us.  We send `minimize` the function we are trying to minimize,\n",
    "and a starting guess for the intercept and slope."
   ]
  },
  {
   "cell_type": "markdown",
   "id": "4db5a470",
   "metadata": {},
   "source": [
    "`minimize` is a little fussy about the functions it will use.  It insists that all the parameters need to be passed in as a single argument.   In our case, we need to pass both parameters (the intercept and slope) as one value, containing two elements, like this:"
   ]
  },
  {
   "cell_type": "code",
   "execution_count": null,
   "id": "1611821f",
   "metadata": {},
   "outputs": [],
   "source": [
    "def sos_error_for_minimize(c_s):\n",
    "    # c_s has two elements, the intercept c and the slope s.\n",
    "    c = c_s[0]\n",
    "    s = c_s[1]\n",
    "    predicted = c + easiness * s\n",
    "    error = quality - predicted\n",
    "    return np.sum(error ** 2)"
   ]
  },
  {
   "cell_type": "markdown",
   "id": "28943f57",
   "metadata": {},
   "source": [
    "This is the form of the function that minimize can use.  See [using\n",
    "minimize](using_minimize) for more detail.\n",
    "\n",
    "We first confirm this gives us the same answer we got before from our function with two arguments:"
   ]
  },
  {
   "cell_type": "code",
   "execution_count": null,
   "id": "f9afce48",
   "metadata": {},
   "outputs": [],
   "source": [
    "# The original function\n",
    "sos_error_c_s(2.25, 0.47)"
   ]
  },
  {
   "cell_type": "code",
   "execution_count": null,
   "id": "a303c934",
   "metadata": {},
   "outputs": [],
   "source": [
    "# The function in the form that minimize wants\n",
    "# The two parameters go into a list, that we can pass as a single argument.\n",
    "sos_error_for_minimize([2.25, 0.47])"
   ]
  },
  {
   "cell_type": "markdown",
   "id": "e717fda9",
   "metadata": {},
   "source": [
    "As usual with `minimize` we need to give a starting guess for the intercept and\n",
    "slope.  We will start with our initial guess of `[2.25, 0.47]`, but any\n",
    "reasonable guess will do."
   ]
  },
  {
   "cell_type": "code",
   "execution_count": null,
   "id": "cb63a402",
   "metadata": {},
   "outputs": [],
   "source": [
    "from scipy.optimize import minimize\n",
    "minimize(sos_error_for_minimize, [2.25, 0.47])"
   ]
  },
  {
   "cell_type": "markdown",
   "id": "a9c26d01",
   "metadata": {},
   "source": [
    "Notice that `minimize` doesn't get exactly the same result as we found with the\n",
    "long slow way above.  This is because the long slow way only tested intercepts\n",
    "that were step-sizes of 0.01 apart (and slopes that were 0.001 apart).\n",
    "`minimize` can use much smaller step-sizes, and so finds a more accurate\n",
    "answer.\n",
    "\n",
    "We won't spend any time justifying this, but this is also the answer we get\n",
    "from traditional fitting of the least-squares line, as implemented, for\n",
    "example, in the Scipy `linregress` function:"
   ]
  },
  {
   "cell_type": "code",
   "execution_count": null,
   "id": "dc7e471b",
   "metadata": {},
   "outputs": [],
   "source": [
    "from scipy.stats import linregress\n",
    "linregress(easiness, quality)"
   ]
  },
  {
   "cell_type": "markdown",
   "id": "02ebeeeb",
   "metadata": {},
   "source": [
    "Notice the values for `slope` and `intercept` in the output above."
   ]
  }
 ],
 "metadata": {
  "jupytext": {
   "notebook_metadata_filter": "all,-language_info",
   "split_at_heading": true
  },
  "kernelspec": {
   "display_name": "Python 3",
   "language": "python",
   "name": "python3"
  }
 },
 "nbformat": 4,
 "nbformat_minor": 5
}
